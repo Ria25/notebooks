{
  "cells": [
    {
      "cell_type": "markdown",
      "source": [
        "# Horse vs Human classification with CNN\n",
        "\n",
        "\n"
      ],
      "metadata": {
        "id": "ARoGrLW6Parr"
      }
    },
    {
      "cell_type": "code",
      "source": [
        "import tensorflow as tf\n",
        "import urllib\n",
        "import zipfile\n",
        "import numpy as np\n",
        "from tensorflow.keras.preprocessing.image import ImageDataGenerator\n",
        "import matplotlib.pyplot as plt\n",
        "from tensorflow.keras.preprocessing.image import array_to_img\n",
        "\n",
        "from tensorflow.keras.optimizers import RMSprop"
      ],
      "metadata": {
        "id": "uJZZexuIHG5j"
      },
      "execution_count": 1,
      "outputs": []
    },
    {
      "cell_type": "code",
      "source": [
        "_TRAIN_URL = \"https://storage.googleapis.com/download.tensorflow.org/data/horse-or-human.zip\"\n",
        "_TEST_URL = \"https://storage.googleapis.com/download.tensorflow.org/data/validation-horse-or-human.zip\"\n",
        "urllib.request.urlretrieve(_TRAIN_URL, 'horse-or-human.zip')\n",
        "local_zip = 'horse-or-human.zip'\n",
        "training_dir = 'horse-or-human/training/'\n",
        "test_dir = 'horse-or-human/test/'\n",
        "zip_ref = zipfile.ZipFile(local_zip, 'r')\n",
        "zip_ref.extractall(training_dir )\n",
        "zip_ref.close()\n",
        "urllib.request.urlretrieve(_TEST_URL, 'validation-horse-or-human.zip')\n",
        "local_zip = 'validation-horse-or-human.zip'\n",
        "zip_ref = zipfile.ZipFile(local_zip, 'r')\n",
        "zip_ref.extractall(test_dir)\n",
        "zip_ref.close()"
      ],
      "metadata": {
        "id": "A7uFJG-zGhg-"
      },
      "execution_count": 2,
      "outputs": []
    },
    {
      "cell_type": "code",
      "source": [
        "def train_val_generators(TRAINING_DIR, VALIDATION_DIR):\n",
        "  train_datagen = ImageDataGenerator( rescale=1./255,\n",
        "                                    rotation_range=40,\n",
        "                                    width_shift_range=0.2,\n",
        "                                    height_shift_range=0.2,\n",
        "                                    shear_range=0.2,\n",
        "                                    zoom_range=0.2,\n",
        "                                    horizontal_flip=True,\n",
        "                                    fill_mode='nearest')\n",
        "\n",
        "\n",
        "  validation_datagen = ImageDataGenerator(rescale=1 / 255)\n",
        "\n",
        "  train_generator = train_datagen.flow_from_directory(\n",
        "\n",
        "    TRAINING_DIR,  \n",
        "    target_size=(300, 300),  \n",
        "    batch_size=128,\n",
        "    class_mode='binary')\n",
        "\n",
        "  validation_generator = validation_datagen.flow_from_directory(\n",
        "    VALIDATION_DIR, \n",
        "    target_size=(300, 300),  \n",
        "    batch_size=32,\n",
        "    class_mode='binary'\n",
        "  )\n",
        "  return train_generator, validation_generator"
      ],
      "metadata": {
        "id": "1oAOhWh0HMBd"
      },
      "execution_count": 3,
      "outputs": []
    },
    {
      "cell_type": "code",
      "source": [
        "train_generator, validation_generator = train_val_generators(training_dir, test_dir)"
      ],
      "metadata": {
        "id": "Nm11MVPtJlMK",
        "outputId": "86798d46-a1d0-4a52-f0fa-5919db5ecda5",
        "colab": {
          "base_uri": "https://localhost:8080/"
        }
      },
      "execution_count": 4,
      "outputs": [
        {
          "output_type": "stream",
          "name": "stdout",
          "text": [
            "Found 1027 images belonging to 2 classes.\n",
            "Found 256 images belonging to 2 classes.\n"
          ]
        }
      ]
    },
    {
      "cell_type": "code",
      "source": [
        "model = tf.keras.models.Sequential([\n",
        "      tf.keras.layers.Conv2D(16, (3, 3), activation='relu',\n",
        "                              input_shape=(300, 300, 3)),\n",
        "      tf.keras.layers.MaxPooling2D(2, 2),\n",
        "      tf.keras.layers.Dropout(0.1),\n",
        "      tf.keras.layers.Conv2D(32, (3, 3), activation='relu'),\n",
        "      tf.keras.layers.MaxPooling2D(2, 2),\n",
        "      tf.keras.layers.Conv2D(64, (3,3), activation='relu'),\n",
        "      tf.keras.layers.MaxPooling2D(2,2),\n",
        "      tf.keras.layers.Conv2D(64, (3, 3), activation='relu'),\n",
        "      tf.keras.layers.MaxPooling2D(2, 2),\n",
        "      tf.keras.layers.Conv2D(64, (3, 3), activation='relu'),\n",
        "      tf.keras.layers.MaxPooling2D(2, 2),\n",
        "\n",
        "      tf.keras.layers.Flatten(),\n",
        "      tf.keras.layers.Dense(512, activation='relu'),\n",
        "      tf.keras.layers.Dense(1, activation='sigmoid')\n",
        "  ])"
      ],
      "metadata": {
        "id": "mzsa-b_5HMNw"
      },
      "execution_count": 10,
      "outputs": []
    },
    {
      "cell_type": "code",
      "source": [
        "model.compile(loss='binary_crossentropy',\n",
        "                optimizer=RMSprop(learning_rate=1e-4),\n",
        "                metrics=['accuracy'])"
      ],
      "metadata": {
        "id": "P5wfFZ1EHMYk"
      },
      "execution_count": 11,
      "outputs": []
    },
    {
      "cell_type": "code",
      "source": [
        "class myCallback(tf.keras.callbacks.Callback):\n",
        "    def on_epoch_end(self, epoch, logs={}):\n",
        "        if (logs.get('val_accuracy') > 0.8):\n",
        "            print(\"\\nReached 80% accuracy so cancelling training!\")\n",
        "            self.model.stop_training = True\n",
        "callbacks = myCallback()\n"
      ],
      "metadata": {
        "id": "ht5lsB0fIfGn"
      },
      "execution_count": 12,
      "outputs": []
    },
    {
      "cell_type": "code",
      "source": [
        "history= model.fit(train_generator,\n",
        "          steps_per_epoch=8,\n",
        "          epochs=30,\n",
        "          verbose=1,\n",
        "          validation_data=validation_generator,\n",
        "          validation_steps=8, callbacks=callbacks\n",
        "          )"
      ],
      "metadata": {
        "id": "Tw6DZWmgIj0W",
        "outputId": "e1622e37-6a48-4bae-ab12-e4e94ab446d3",
        "colab": {
          "base_uri": "https://localhost:8080/"
        }
      },
      "execution_count": 13,
      "outputs": [
        {
          "output_type": "stream",
          "name": "stdout",
          "text": [
            "Epoch 1/30\n",
            "8/8 [==============================] - 107s 13s/step - loss: 0.6897 - accuracy: 0.5293 - val_loss: 0.6957 - val_accuracy: 0.5000\n",
            "Epoch 2/30\n",
            "8/8 [==============================] - 97s 12s/step - loss: 0.6722 - accuracy: 0.5584 - val_loss: 0.6720 - val_accuracy: 0.6211\n",
            "Epoch 3/30\n",
            "8/8 [==============================] - 97s 12s/step - loss: 0.6661 - accuracy: 0.6418 - val_loss: 0.6546 - val_accuracy: 0.7227\n",
            "Epoch 4/30\n",
            "8/8 [==============================] - ETA: 0s - loss: 0.6587 - accuracy: 0.6073 \n",
            "Reached 80% accuracy so cancelling training!\n",
            "8/8 [==============================] - 98s 12s/step - loss: 0.6587 - accuracy: 0.6073 - val_loss: 0.6450 - val_accuracy: 0.8008\n"
          ]
        }
      ]
    },
    {
      "cell_type": "code",
      "source": [
        "acc = history.history['accuracy']\n",
        "val_acc = history.history['val_accuracy']\n",
        "loss = history.history['loss']\n",
        "val_loss = history.history['val_loss']\n",
        "\n",
        "epochs = range(len(acc))\n",
        "\n",
        "plt.plot(epochs, acc, 'r', label='Training accuracy')\n",
        "plt.plot(epochs, val_acc, 'b', label='Validation accuracy')\n",
        "plt.title('Training and validation accuracy')\n",
        "plt.legend(loc=0)\n",
        "plt.figure()\n",
        "\n",
        "plt.show()"
      ],
      "metadata": {
        "id": "xf0tCAD7J2kA",
        "outputId": "c9defb6b-54fe-4063-fc69-a672ef65b5b9",
        "colab": {
          "base_uri": "https://localhost:8080/",
          "height": 298
        }
      },
      "execution_count": 9,
      "outputs": [
        {
          "output_type": "display_data",
          "data": {
            "text/plain": [
              "<Figure size 432x288 with 1 Axes>"
            ],
            "image/png": "[encoded data removed]"
          },
          "metadata": {
            "needs_background": "light"
          }
        },
        {
          "output_type": "display_data",
          "data": {
            "text/plain": [
              "<Figure size 432x288 with 0 Axes>"
            ]
          },
          "metadata": {}
        }
      ]
    }
  ],
  "metadata": {
    "colab": {
      "collapsed_sections": [],
      "name": "Bienvenue dans Colaboratory",
      "toc_visible": true,
      "provenance": []
    },
    "kernelspec": {
      "display_name": "Python 3",
      "name": "python3"
    }
  },
  "nbformat": 4,
  "nbformat_minor": 0
}