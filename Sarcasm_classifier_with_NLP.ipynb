{
  "cells": [
    {
      "cell_type": "markdown",
      "metadata": {
        "id": "ogQyIyLjQ-lW"
      },
      "source": [
        "# Sarcasm classifier with NLP"
      ]
    },
    {
      "cell_type": "code",
      "execution_count": 1,
      "metadata": {
        "id": "gWWLPRpLQ0Zn"
      },
      "outputs": [],
      "source": [
        "import json\n",
        "import tensorflow as tf\n",
        "import numpy as np\n",
        "import urllib\n",
        "from tensorflow.keras.preprocessing.text import Tokenizer\n",
        "from tensorflow.keras.preprocessing.sequence import pad_sequences"
      ]
    },
    {
      "cell_type": "code",
      "execution_count": 2,
      "metadata": {
        "id": "iMDCtH_-RZze"
      },
      "outputs": [],
      "source": [
        "url = 'https://storage.googleapis.com/download.tensorflow.org/data/sarcasm.json'\n",
        "urllib.request.urlretrieve(url, 'sarcasm.json')\n",
        "\n",
        "vocab_size = 1000\n",
        "embedding_dim = 16\n",
        "max_length = 120\n",
        "trunc_type='post'\n",
        "padding_type='post'\n",
        "oov_tok = \"<OOV>\"\n",
        "training_size = 20000\n",
        "with open(\"sarcasm.json\", 'r') as f:\n",
        "    datastore = json.load(f)\n",
        "sentences = []\n",
        "labels = []\n",
        "for item in datastore:\n",
        "    sentences.append(item['headline'])\n",
        "    labels.append(item['is_sarcastic'])"
      ]
    },
    {
      "cell_type": "code",
      "execution_count": 3,
      "metadata": {
        "id": "M2y0P7N2RcD4"
      },
      "outputs": [],
      "source": [
        "training_sentences = sentences[0:training_size]\n",
        "testing_sentences = sentences[training_size:]\n",
        "training_labels = labels[0:training_size]\n",
        "testing_labels = labels[training_size:]\n",
        "tokenizer = Tokenizer(num_words=vocab_size, oov_token=oov_tok)\n",
        "tokenizer.fit_on_texts(training_sentences)\n",
        "\n",
        "word_index = tokenizer.word_index\n",
        "\n",
        "training_sequences = tokenizer.texts_to_sequences(training_sentences)\n",
        "training_padded = pad_sequences(training_sequences, maxlen=max_length, padding=padding_type, truncating=trunc_type)\n",
        "\n",
        "testing_sequences = tokenizer.texts_to_sequences(testing_sentences)\n",
        "testing_padded = pad_sequences(testing_sequences, maxlen=max_length, padding=padding_type, truncating=trunc_type)\n"
      ]
    },
    {
      "cell_type": "code",
      "execution_count": 4,
      "metadata": {
        "id": "GK0lwWrqXpfS"
      },
      "outputs": [],
      "source": [
        "training_padded = np.array(training_padded)\n",
        "training_labels = np.array(training_labels)\n",
        "testing_padded = np.array(testing_padded)\n",
        "testing_labels = np.array(testing_labels)\n"
      ]
    },
    {
      "cell_type": "code",
      "execution_count": 5,
      "metadata": {
        "id": "y2g2ytkoXvhM"
      },
      "outputs": [],
      "source": [
        "model = tf.keras.Sequential([\n",
        "    tf.keras.layers.Embedding(vocab_size, embedding_dim, input_length=max_length),\n",
        "    tf.keras.layers.Bidirectional(tf.keras.layers.LSTM(32, return_sequences=True)),\n",
        "    tf.keras.layers.Bidirectional(tf.keras.layers.LSTM(16, return_sequences=True)),\n",
        "    tf.keras.layers.GlobalAveragePooling1D(),\n",
        "    tf.keras.layers.Dense(24, activation='relu'),\n",
        "    tf.keras.layers.Dense(1, activation='sigmoid')\n",
        "])"
      ]
    },
    {
      "cell_type": "code",
      "execution_count": 6,
      "metadata": {
        "colab": {
          "base_uri": "https://localhost:8080/"
        },
        "id": "WfhrQE76XvmD",
        "outputId": "cb17caf0-2416-495f-d489-39b97200bfc8"
      },
      "outputs": [
        {
          "name": "stdout",
          "output_type": "stream",
          "text": [
            "Epoch 1/30\n",
            "625/625 [==============================] - 84s 123ms/step - loss: 0.5792 - accuracy: 0.6801 - val_loss: 0.4640 - val_accuracy: 0.7922\n",
            "Epoch 2/30\n",
            "625/625 [==============================] - 77s 123ms/step - loss: 0.4036 - accuracy: 0.8168 - val_loss: 0.4242 - val_accuracy: 0.8077\n",
            "Epoch 3/30\n",
            "625/625 [==============================] - 76s 122ms/step - loss: 0.3729 - accuracy: 0.8264 - val_loss: 0.4135 - val_accuracy: 0.7892\n",
            "Epoch 4/30\n",
            "625/625 [==============================] - 75s 120ms/step - loss: 0.3718 - accuracy: 0.8295 - val_loss: 0.4204 - val_accuracy: 0.8122\n",
            "Epoch 5/30\n",
            "625/625 [==============================] - 75s 120ms/step - loss: 0.3611 - accuracy: 0.8320 - val_loss: 0.4001 - val_accuracy: 0.8131\n",
            "Epoch 6/30\n",
            "625/625 [==============================] - 77s 123ms/step - loss: 0.3583 - accuracy: 0.8342 - val_loss: 0.4041 - val_accuracy: 0.8120\n",
            "Epoch 7/30\n",
            "625/625 [==============================] - 76s 122ms/step - loss: 0.3520 - accuracy: 0.8382 - val_loss: 0.4260 - val_accuracy: 0.8043\n",
            "Epoch 8/30\n",
            "625/625 [==============================] - 75s 120ms/step - loss: 0.3578 - accuracy: 0.8345 - val_loss: 0.4040 - val_accuracy: 0.8059\n",
            "Epoch 9/30\n",
            "625/625 [==============================] - 76s 121ms/step - loss: 0.3432 - accuracy: 0.8411 - val_loss: 0.4063 - val_accuracy: 0.8183\n",
            "Epoch 10/30\n",
            "625/625 [==============================] - 76s 122ms/step - loss: 0.3367 - accuracy: 0.8446 - val_loss: 0.3966 - val_accuracy: 0.8176\n",
            "Epoch 11/30\n",
            "625/625 [==============================] - 77s 123ms/step - loss: 0.3313 - accuracy: 0.8481 - val_loss: 0.3970 - val_accuracy: 0.8180\n",
            "Epoch 12/30\n",
            "625/625 [==============================] - 76s 121ms/step - loss: 0.3322 - accuracy: 0.8472 - val_loss: 0.3973 - val_accuracy: 0.8232\n",
            "Epoch 13/30\n",
            "625/625 [==============================] - 76s 121ms/step - loss: 0.3204 - accuracy: 0.8521 - val_loss: 0.3970 - val_accuracy: 0.8244\n",
            "Epoch 14/30\n",
            "625/625 [==============================] - 76s 121ms/step - loss: 0.3151 - accuracy: 0.8572 - val_loss: 0.4075 - val_accuracy: 0.8243\n",
            "Epoch 15/30\n",
            "625/625 [==============================] - 75s 120ms/step - loss: 0.3071 - accuracy: 0.8590 - val_loss: 0.4099 - val_accuracy: 0.8229\n",
            "Epoch 16/30\n",
            "625/625 [==============================] - 75s 120ms/step - loss: 0.3020 - accuracy: 0.8627 - val_loss: 0.3991 - val_accuracy: 0.8258\n",
            "Epoch 17/30\n",
            "625/625 [==============================] - 75s 121ms/step - loss: 0.3079 - accuracy: 0.8636 - val_loss: 0.4037 - val_accuracy: 0.8246\n",
            "Epoch 18/30\n",
            "625/625 [==============================] - 75s 120ms/step - loss: 0.2878 - accuracy: 0.8734 - val_loss: 0.4184 - val_accuracy: 0.8271\n",
            "Epoch 19/30\n",
            "625/625 [==============================] - 75s 120ms/step - loss: 0.2800 - accuracy: 0.8767 - val_loss: 0.4062 - val_accuracy: 0.8226\n",
            "Epoch 20/30\n",
            "625/625 [==============================] - 74s 118ms/step - loss: 0.2804 - accuracy: 0.8727 - val_loss: 0.4232 - val_accuracy: 0.8196\n",
            "Epoch 21/30\n",
            "625/625 [==============================] - 74s 119ms/step - loss: 0.2813 - accuracy: 0.8715 - val_loss: 0.4318 - val_accuracy: 0.8277\n",
            "Epoch 22/30\n",
            "625/625 [==============================] - 74s 118ms/step - loss: 0.2715 - accuracy: 0.8773 - val_loss: 0.4174 - val_accuracy: 0.8277\n",
            "Epoch 23/30\n",
            "625/625 [==============================] - 74s 119ms/step - loss: 0.2609 - accuracy: 0.8817 - val_loss: 0.4264 - val_accuracy: 0.8255\n",
            "Epoch 24/30\n",
            "625/625 [==============================] - 74s 118ms/step - loss: 0.2678 - accuracy: 0.8777 - val_loss: 0.4334 - val_accuracy: 0.8293\n",
            "Epoch 25/30\n",
            "625/625 [==============================] - 74s 118ms/step - loss: 0.2540 - accuracy: 0.8856 - val_loss: 0.4224 - val_accuracy: 0.8299\n",
            "Epoch 26/30\n",
            "625/625 [==============================] - 75s 120ms/step - loss: 0.2436 - accuracy: 0.8901 - val_loss: 0.4304 - val_accuracy: 0.8304\n",
            "Epoch 27/30\n",
            "625/625 [==============================] - 77s 123ms/step - loss: 0.2352 - accuracy: 0.8953 - val_loss: 0.4592 - val_accuracy: 0.8272\n",
            "Epoch 28/30\n",
            "625/625 [==============================] - 77s 123ms/step - loss: 0.2277 - accuracy: 0.8976 - val_loss: 0.4632 - val_accuracy: 0.8240\n",
            "Epoch 29/30\n",
            "625/625 [==============================] - 76s 122ms/step - loss: 0.2227 - accuracy: 0.9003 - val_loss: 0.5149 - val_accuracy: 0.8237\n",
            "Epoch 30/30\n",
            "625/625 [==============================] - 75s 121ms/step - loss: 0.2238 - accuracy: 0.9024 - val_loss: 0.4751 - val_accuracy: 0.8264\n"
          ]
        }
      ],
      "source": [
        "model.compile(loss='binary_crossentropy', optimizer='adam', metrics=['accuracy'])\n",
        "\n",
        "num_epochs = 30\n",
        "history= model.fit(training_padded, training_labels, epochs=num_epochs,\n",
        "          validation_data=(testing_padded, testing_labels), verbose=1)"
      ]
    },
    {
      "cell_type": "code",
      "execution_count": 8,
      "metadata": {
        "colab": {
          "base_uri": "https://localhost:8080/",
          "height": 298
        },
        "id": "PhGPT9cJXvn9",
        "outputId": "6b400877-af55-481f-8673-c8eeba100cba"
      },
      "outputs": [
        {
          "data": {
            "image/png": "[encoded data removed]",
            "text/plain": [
              "<Figure size 432x288 with 1 Axes>"
            ]
          },
          "metadata": {
            "needs_background": "light"
          },
          "output_type": "display_data"
        },
        {
          "data": {
            "text/plain": [
              "<Figure size 432x288 with 0 Axes>"
            ]
          },
          "metadata": {},
          "output_type": "display_data"
        }
      ],
      "source": [
        "import matplotlib.pyplot as plt\n",
        "acc = history.history['accuracy']\n",
        "val_acc = history.history['val_accuracy']\n",
        "loss = history.history['loss']\n",
        "val_loss = history.history['val_loss']\n",
        "\n",
        "epochs = range(len(acc))\n",
        "\n",
        "plt.plot(epochs, acc, 'r', label='Training accuracy')\n",
        "plt.plot(epochs, val_acc, 'b', label='Validation accuracy')\n",
        "plt.title('Training and validation accuracy')\n",
        "plt.legend(loc=0)\n",
        "plt.figure()\n",
        "\n",
        "plt.show()"
      ]
    }
  ],
  "metadata": {
    "colab": {
      "name": "Sarcasm classifier with NLP.ipynb",
      "provenance": []
    },
    "kernelspec": {
      "display_name": "Python 3",
      "name": "python3"
    },
    "language_info": {
      "name": "python"
    }
  },
  "nbformat": 4,
  "nbformat_minor": 0
}
